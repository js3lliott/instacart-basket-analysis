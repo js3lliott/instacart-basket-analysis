{
 "cells": [
  {
   "attachments": {},
   "cell_type": "markdown",
   "metadata": {},
   "source": [
    "# Instacart Market Basket Analysis"
   ]
  },
  {
   "cell_type": "code",
   "execution_count": null,
   "metadata": {
    "application/vnd.databricks.v1+cell": {
     "cellMetadata": {
      "byteLimit": 2048000,
      "rowLimit": 10000
     },
     "inputWidgets": {},
     "nuid": "8bbf6cc3-b10d-40df-a79e-bd2b1834a98f",
     "showTitle": false,
     "title": ""
    }
   },
   "outputs": [],
   "source": [
    "!pip install spark\n",
    "!pip install pyspark"
   ]
  },
  {
   "cell_type": "code",
   "execution_count": null,
   "metadata": {
    "application/vnd.databricks.v1+cell": {
     "cellMetadata": {
      "byteLimit": 2048000,
      "rowLimit": 10000
     },
     "inputWidgets": {},
     "nuid": "048b7285-9ff4-4127-b514-6a04d8890f17",
     "showTitle": false,
     "title": ""
    }
   },
   "outputs": [],
   "source": [
    "import spark\n",
    "import pyspark"
   ]
  },
  {
   "cell_type": "code",
   "execution_count": null,
   "metadata": {
    "application/vnd.databricks.v1+cell": {
     "cellMetadata": {
      "byteLimit": 2048000,
      "rowLimit": 10000
     },
     "inputWidgets": {},
     "nuid": "fcecf858-85bd-43be-8ea0-4185eb05b245",
     "showTitle": false,
     "title": ""
    }
   },
   "outputs": [],
   "source": [
    "from pyspark.sql import SparkSession\n",
    "spark = SparkSession.builder.getOrCreate()"
   ]
  },
  {
   "attachments": {},
   "cell_type": "markdown",
   "metadata": {},
   "source": [
    "This notebook provides a simplified overview of how to perform market basket analysis using a Databricks notebook environment hosted on a private cluster. Using the distributed platform the Databricks provides, we can easily scan and parse large amounts of data very quickly. For this particular problem, the platform is useful for generating large item sets and association rule mining utilizing Apache Spark (MLlib algorithms), PySpark, SQL and Scala.\n",
    "\n",
    "I will use the Instacart Online Grocery Shopping Dataset from 2017 for this project. Along with the analysis I will explore some of the attributes of the data, producing plots generated in Tableau.\n",
    "\n",
    "Not shown is the data loaded into a Delta Live Table in Databricks, stored in DBFS and then housed in a an Apache Hive metastore where each file is accesible on its own."
   ]
  },
  {
   "attachments": {},
   "cell_type": "markdown",
   "metadata": {},
   "source": [
    "## Create DataFrames"
   ]
  },
  {
   "cell_type": "code",
   "execution_count": null,
   "metadata": {
    "application/vnd.databricks.v1+cell": {
     "cellMetadata": {
      "byteLimit": 2048000,
      "rowLimit": 10000
     },
     "inputWidgets": {},
     "nuid": "13aa3575-be4d-4d29-8c3a-89d6713aaf52",
     "showTitle": false,
     "title": ""
    }
   },
   "outputs": [],
   "source": [
    "# import the data\n",
    "# aisles = spark.read.format(\"delta\").option(\"header\", \"true\").load(\"dbfs:/user/hive/warehouse/aisles\")\n",
    "departments = spark.read.format(\"delta\").option(\"header\", \"true\").load(\"dbfs:/user/hive/warehouse/departments\")\n",
    "# order_products_prior = spark.read.format(\"delta\").option(\"header\", \"true\").load(\"dbfs:/user/hive/warehouse/order_products__prior\")\n",
    "order_products_train = spark.read.format(\"delta\").option(\"header\", \"true\").load(\"dbfs:/user/hive/warehouse/order_products_train\")\n",
    "orders = spark.read.format(\"delta\").option(\"header\", \"true\").load(\"dbfs:/user/hive/warehouse/orders\")\n",
    "products = spark.read.format(\"delta\").option(\"header\", \"true\").load(\"dbfs:/user/hive/warehouse/products\")"
   ]
  },
  {
   "attachments": {},
   "cell_type": "markdown",
   "metadata": {},
   "source": [
    "After importing the data, we need to create something called \"temporary tables\" (or views) in Spark. These views allow us to treat Spark DataFrames like SQL tables and allows us to use SQL query syntax to filter, transform and analyze our data. Spark SQL is also super fast so that's just an added bonus when dealing with large datasets."
   ]
  },
  {
   "cell_type": "code",
   "execution_count": null,
   "metadata": {
    "application/vnd.databricks.v1+cell": {
     "cellMetadata": {
      "byteLimit": 2048000,
      "rowLimit": 10000
     },
     "inputWidgets": {},
     "nuid": "94468d3c-2c5d-4e74-b62f-5257f0080538",
     "showTitle": false,
     "title": ""
    }
   },
   "outputs": [],
   "source": [
    "# Create Temporary Tables\n",
    "# aisles.createOrReplaceTempView(\"aisles\")\n",
    "departments.createOrReplaceTempView(\"departments\")\n",
    "# order_products_prior.createOrReplaceTempView(\"order_products_prior\")\n",
    "order_products_train.createOrReplaceTempView(\"order_products_train\")\n",
    "orders.createOrReplaceTempView(\"orders\")\n",
    "products.createOrReplaceTempView(\"products\")"
   ]
  },
  {
   "attachments": {},
   "cell_type": "markdown",
   "metadata": {},
   "source": [
    "## Exploratory Data Analysis\n",
    "\n",
    "\n",
    "### Orders by Day of Week\n",
    "\n",
    "Now we're going to really tap into the power of using Spark SQL.\n",
    "\n",
    "First, we'll look at the total amount of orders for each day of the week. The `order_dow` column represents the order day of week in a numerical form so we will do a simple conversion to display the names of the days in our visualization, and then we group by day of week and order by the total amount of orders."
   ]
  },
  {
   "cell_type": "code",
   "execution_count": null,
   "metadata": {
    "application/vnd.databricks.v1+cell": {
     "cellMetadata": {
      "byteLimit": 2048000,
      "implicitDf": true,
      "rowLimit": 10000
     },
     "inputWidgets": {},
     "nuid": "380dc544-c046-4e9a-8e7a-0bda3616f75d",
     "showTitle": false,
     "title": ""
    }
   },
   "outputs": [
    {
     "data": {
      "text/html": [
       "<style scoped>\n",
       "  .table-result-container {\n",
       "    max-height: 300px;\n",
       "    overflow: auto;\n",
       "  }\n",
       "  table, th, td {\n",
       "    border: 1px solid black;\n",
       "    border-collapse: collapse;\n",
       "  }\n",
       "  th, td {\n",
       "    padding: 5px;\n",
       "  }\n",
       "  th {\n",
       "    text-align: left;\n",
       "  }\n",
       "</style><div class='table-result-container'><table class='table-result'><thead style='background-color: white'><tr><th>total_orders</th><th>day_of_week</th></tr></thead><tbody><tr><td>600905</td><td>Sunday</td></tr><tr><td>587478</td><td>Monday</td></tr><tr><td>467260</td><td>Tuesday</td></tr><tr><td>453368</td><td>Friday</td></tr><tr><td>448761</td><td>Saturday</td></tr><tr><td>436972</td><td>Wednesday</td></tr><tr><td>426339</td><td>Thursday</td></tr><tr><td>1</td><td>null</td></tr></tbody></table></div>"
      ]
     },
     "metadata": {
      "application/vnd.databricks.v1+output": {
       "addedWidgets": {},
       "aggData": [],
       "aggError": "",
       "aggOverflow": false,
       "aggSchema": [],
       "aggSeriesLimitReached": false,
       "aggType": "",
       "arguments": {},
       "columnCustomDisplayInfos": {},
       "data": [
        [
         600905,
         "Sunday"
        ],
        [
         587478,
         "Monday"
        ],
        [
         467260,
         "Tuesday"
        ],
        [
         453368,
         "Friday"
        ],
        [
         448761,
         "Saturday"
        ],
        [
         436972,
         "Wednesday"
        ],
        [
         426339,
         "Thursday"
        ],
        [
         1,
         null
        ]
       ],
       "datasetInfos": [],
       "dbfsResultPath": null,
       "isJsonSchema": true,
       "metadata": {},
       "overflow": false,
       "plotOptions": {
        "customPlotOptions": {},
        "displayType": "table",
        "pivotAggregation": null,
        "pivotColumns": null,
        "xColumns": null,
        "yColumns": null
       },
       "removedWidgets": [],
       "schema": [
        {
         "metadata": "{}",
         "name": "total_orders",
         "type": "\"long\""
        },
        {
         "metadata": "{}",
         "name": "day_of_week",
         "type": "\"string\""
        }
       ],
       "type": "table"
      }
     },
     "output_type": "display_data"
    },
    {
     "data": {
      "text/plain": [
       "Databricks visualization. Run in Databricks to view."
      ]
     },
     "metadata": {
      "application/vnd.databricks.v1.subcommand+json": {
       "bindings": {},
       "collapsed": false,
       "command": "%sql WITH q AS (select\n  count(order_id) as total_orders,\n  (case\n     when order_dow = '0' then 'Sunday'\n     when order_dow = '1' then 'Monday'\n     when order_dow = '2' then 'Tuesday'\n     when order_dow = '3' then 'Wednesday'\n     when order_dow = '4' then 'Thursday'\n     when order_dow = '5' then 'Friday'\n     when order_dow = '6' then 'Saturday'\n   end) as day_of_week\n  from orders\ngroup by order_dow\norder by total_orders desc) SELECT `day_of_week`,SUM(`total_orders`) `column_7c8e52746` FROM q GROUP BY `day_of_week`",
       "commandTitle": "Visualization 1",
       "commandType": "auto",
       "commandVersion": 0,
       "commentThread": [],
       "commentsVisible": false,
       "contentSha256Hex": null,
       "customPlotOptions": {
        "redashChart": [
         {
          "key": "type",
          "value": "CHART"
         },
         {
          "key": "options",
          "value": {
           "alignYAxesAtZero": true,
           "coefficient": 1,
           "columnConfigurationMap": {
            "x": {
             "column": "day_of_week",
             "id": "column_7c8e52745"
            },
            "y": [
             {
              "column": "total_orders",
              "id": "column_7c8e52746",
              "transform": "SUM"
             }
            ]
           },
           "dateTimeFormat": "DD/MM/YYYY HH:mm",
           "direction": {
            "type": "counterclockwise"
           },
           "error_y": {
            "type": "data",
            "visible": true
           },
           "globalSeriesType": "column",
           "isAggregationOn": true,
           "legend": {
            "traceorder": "normal"
           },
           "missingValuesAsZero": false,
           "numberFormat": "0,0[.]00000",
           "percentFormat": "0[.]00%",
           "series": {
            "error_y": {
             "type": "data",
             "visible": true
            },
            "stacking": null
           },
           "seriesOptions": {
            "Friday": {
             "yAxis": 0
            },
            "column_7c8e52746": {
             "color": "#3BD973",
             "name": "total_orders",
             "type": "column",
             "yAxis": 0
            }
           },
           "showDataLabels": true,
           "sizemode": "diameter",
           "sortX": false,
           "sortY": true,
           "swappedAxes": false,
           "textFormat": "",
           "useAggregationsUi": true,
           "valuesOptions": {},
           "version": 2,
           "xAxis": {
            "labels": {
             "enabled": true
            },
            "type": "-"
           },
           "yAxis": [
            {
             "title": {
              "text": "total_orders"
             },
             "type": "-"
            },
            {
             "opposite": true,
             "title": {
              "text": null
             },
             "type": "-"
            }
           ]
          }
         }
        ]
       },
       "datasetPreviewNameToCmdIdMap": {},
       "diffDeletes": [],
       "diffInserts": [],
       "displayType": "redashChart",
       "error": null,
       "errorSummary": null,
       "errorTraceType": null,
       "finishTime": 0,
       "globalVars": {},
       "guid": "79cbe967-b005-4f6e-a46d-8c06a979cd18",
       "height": "auto",
       "hideCommandCode": false,
       "hideCommandResult": false,
       "iPythonMetadata": null,
       "inputWidgets": {},
       "isLockedInExamMode": false,
       "latestUser": "a user",
       "latestUserId": null,
       "listResultMetadata": null,
       "metadata": {
        "byteLimit": 2048000,
        "implicitDf": true,
        "rowLimit": 10000
       },
       "nuid": "f03c8dc4-a396-439d-bb44-cb63af1fad78",
       "origId": 2304244234996422,
       "parentHierarchy": [
        "50ab99df-e9ac-49ea-8eaf-2ef839e81bd9"
       ],
       "pivotAggregation": null,
       "pivotColumns": null,
       "position": 6,
       "resultDbfsErrorMessage": null,
       "resultDbfsStatus": "INLINED_IN_TREE",
       "results": null,
       "showCommandTitle": false,
       "startTime": 0,
       "state": "finished",
       "streamStates": {},
       "subcommandOptions": {
        "queryPlan": {
         "groups": [
          {
           "column": "day_of_week",
           "type": "column"
          }
         ],
         "selects": [
          {
           "column": "day_of_week",
           "type": "column"
          },
          {
           "alias": "column_7c8e52746",
           "args": [
            {
             "column": "total_orders",
             "type": "column"
            }
           ],
           "function": "SUM",
           "type": "function"
          }
         ]
        }
       },
       "submitTime": 0,
       "subtype": "tableResultSubCmd.visualization",
       "tableResultIndex": 0,
       "useConsistentColors": false,
       "version": "CommandV1",
       "width": "auto",
       "workflows": [],
       "xColumns": null,
       "yColumns": null
      }
     },
     "output_type": "display_data"
    }
   ],
   "source": [
    "%sql\n",
    "select\n",
    "  count(order_id) as total_orders,\n",
    "  (case\n",
    "     when order_dow = '0' then 'Sunday'\n",
    "     when order_dow = '1' then 'Monday'\n",
    "     when order_dow = '2' then 'Tuesday'\n",
    "     when order_dow = '3' then 'Wednesday'\n",
    "     when order_dow = '4' then 'Thursday'\n",
    "     when order_dow = '5' then 'Friday'\n",
    "     when order_dow = '6' then 'Saturday'\n",
    "   end) as day_of_week\n",
    "  from orders\n",
    "group by order_dow\n",
    "order by total_orders desc"
   ]
  },
  {
   "cell_type": "code",
   "execution_count": 2,
   "metadata": {},
   "outputs": [
    {
     "data": {
      "image/png": "[encoded data removed]",
      "text/plain": [
       "<IPython.core.display.Image object>"
      ]
     },
     "metadata": {},
     "output_type": "display_data"
    }
   ],
   "source": [
    "from IPython.display import Image, display\n",
    "display(Image(\"./figures/orders_by_day_of_week.png\"))"
   ]
  },
  {
   "attachments": {},
   "cell_type": "markdown",
   "metadata": {},
   "source": [
    "### Orders by Hour\n",
    "\n",
    "We can also break down the orders by the hour of day that people make their Instacart purchases. As we'll see in the figure, the highest number of orders is usually around 10am and even looks like it stays almost consistently busy up until around 4pm which then it starts to level off."
   ]
  },
  {
   "cell_type": "code",
   "execution_count": null,
   "metadata": {
    "application/vnd.databricks.v1+cell": {
     "cellMetadata": {
      "byteLimit": 2048000,
      "implicitDf": true,
      "rowLimit": 10000
     },
     "inputWidgets": {},
     "nuid": "07df068c-b9c4-48b6-a927-76036bc91576",
     "showTitle": false,
     "title": ""
    }
   },
   "outputs": [
    {
     "data": {
      "text/html": [
       "<style scoped>\n",
       "  .table-result-container {\n",
       "    max-height: 300px;\n",
       "    overflow: auto;\n",
       "  }\n",
       "  table, th, td {\n",
       "    border: 1px solid black;\n",
       "    border-collapse: collapse;\n",
       "  }\n",
       "  th, td {\n",
       "    padding: 5px;\n",
       "  }\n",
       "  th {\n",
       "    text-align: left;\n",
       "  }\n",
       "</style><div class='table-result-container'><table class='table-result'><thead style='background-color: white'><tr><th>total_orders</th><th>hour</th></tr></thead><tbody><tr><td>22758</td><td>00</td></tr><tr><td>12398</td><td>01</td></tr><tr><td>7539</td><td>02</td></tr><tr><td>5474</td><td>03</td></tr><tr><td>5527</td><td>04</td></tr><tr><td>9569</td><td>05</td></tr><tr><td>30529</td><td>06</td></tr><tr><td>91868</td><td>07</td></tr><tr><td>178201</td><td>08</td></tr><tr><td>257812</td><td>09</td></tr><tr><td>288418</td><td>10</td></tr><tr><td>284728</td><td>11</td></tr><tr><td>272841</td><td>12</td></tr><tr><td>277999</td><td>13</td></tr><tr><td>283042</td><td>14</td></tr><tr><td>283639</td><td>15</td></tr><tr><td>272553</td><td>16</td></tr><tr><td>228795</td><td>17</td></tr><tr><td>182912</td><td>18</td></tr><tr><td>140569</td><td>19</td></tr><tr><td>104292</td><td>20</td></tr><tr><td>78109</td><td>21</td></tr><tr><td>61468</td><td>22</td></tr><tr><td>40043</td><td>23</td></tr><tr><td>1</td><td>order_hour_of_day</td></tr></tbody></table></div>"
      ]
     },
     "metadata": {
      "application/vnd.databricks.v1+output": {
       "addedWidgets": {},
       "aggData": [],
       "aggError": "",
       "aggOverflow": false,
       "aggSchema": [],
       "aggSeriesLimitReached": false,
       "aggType": "",
       "arguments": {},
       "columnCustomDisplayInfos": {},
       "data": [
        [
         22758,
         "00"
        ],
        [
         12398,
         "01"
        ],
        [
         7539,
         "02"
        ],
        [
         5474,
         "03"
        ],
        [
         5527,
         "04"
        ],
        [
         9569,
         "05"
        ],
        [
         30529,
         "06"
        ],
        [
         91868,
         "07"
        ],
        [
         178201,
         "08"
        ],
        [
         257812,
         "09"
        ],
        [
         288418,
         "10"
        ],
        [
         284728,
         "11"
        ],
        [
         272841,
         "12"
        ],
        [
         277999,
         "13"
        ],
        [
         283042,
         "14"
        ],
        [
         283639,
         "15"
        ],
        [
         272553,
         "16"
        ],
        [
         228795,
         "17"
        ],
        [
         182912,
         "18"
        ],
        [
         140569,
         "19"
        ],
        [
         104292,
         "20"
        ],
        [
         78109,
         "21"
        ],
        [
         61468,
         "22"
        ],
        [
         40043,
         "23"
        ],
        [
         1,
         "order_hour_of_day"
        ]
       ],
       "datasetInfos": [],
       "dbfsResultPath": null,
       "isJsonSchema": true,
       "metadata": {},
       "overflow": false,
       "plotOptions": {
        "customPlotOptions": {},
        "displayType": "table",
        "pivotAggregation": null,
        "pivotColumns": null,
        "xColumns": null,
        "yColumns": null
       },
       "removedWidgets": [],
       "schema": [
        {
         "metadata": "{}",
         "name": "total_orders",
         "type": "\"long\""
        },
        {
         "metadata": "{}",
         "name": "hour",
         "type": "\"string\""
        }
       ],
       "type": "table"
      }
     },
     "output_type": "display_data"
    },
    {
     "data": {
      "text/plain": [
       "Databricks visualization. Run in Databricks to view."
      ]
     },
     "metadata": {
      "application/vnd.databricks.v1.subcommand+json": {
       "bindings": {},
       "collapsed": false,
       "command": "%sql WITH q AS (select\n  count(order_id) as total_orders,\n  order_hour_of_day as hour\nfrom orders\ngroup by order_hour_of_day\norder by order_hour_of_day) SELECT `hour`,SUM(`total_orders`) `column_7c8e527417` FROM q GROUP BY `hour`",
       "commandTitle": "Visualization 1",
       "commandType": "auto",
       "commandVersion": 0,
       "commentThread": [],
       "commentsVisible": false,
       "contentSha256Hex": null,
       "customPlotOptions": {
        "redashChart": [
         {
          "key": "type",
          "value": "CHART"
         },
         {
          "key": "options",
          "value": {
           "alignYAxesAtZero": true,
           "coefficient": 1,
           "columnConfigurationMap": {
            "x": {
             "column": "hour",
             "id": "column_7c8e527416"
            },
            "y": [
             {
              "column": "total_orders",
              "id": "column_7c8e527417",
              "transform": "SUM"
             }
            ]
           },
           "dateTimeFormat": "DD/MM/YYYY HH:mm",
           "direction": {
            "type": "counterclockwise"
           },
           "error_y": {
            "type": "data",
            "visible": true
           },
           "globalSeriesType": "line",
           "isAggregationOn": true,
           "legend": {
            "traceorder": "normal"
           },
           "missingValuesAsZero": false,
           "numberFormat": "0,0[.]00000",
           "percentFormat": "0[.]00%",
           "series": {
            "error_y": {
             "type": "data",
             "visible": true
            },
            "stacking": null
           },
           "seriesOptions": {
            "column_7c8e527417": {
             "name": "total_orders",
             "type": "line",
             "yAxis": 0
            },
            "column_7c8e527419": {
             "type": "line",
             "yAxis": 0
            },
            "column_7c8e527421": {
             "type": "line",
             "yAxis": 0
            }
           },
           "showDataLabels": false,
           "sizemode": "diameter",
           "sortX": true,
           "sortY": true,
           "swappedAxes": false,
           "textFormat": "",
           "useAggregationsUi": true,
           "valuesOptions": {},
           "version": 2,
           "xAxis": {
            "labels": {
             "enabled": true
            },
            "type": "-"
           },
           "yAxis": [
            {
             "type": "-"
            },
            {
             "opposite": true,
             "type": "-"
            }
           ]
          }
         }
        ]
       },
       "datasetPreviewNameToCmdIdMap": {},
       "diffDeletes": [],
       "diffInserts": [],
       "displayType": "redashChart",
       "error": null,
       "errorSummary": null,
       "errorTraceType": null,
       "finishTime": 0,
       "globalVars": {},
       "guid": "8b261f64-baf3-4ffc-9d4f-c2439ec313cc",
       "height": "auto",
       "hideCommandCode": false,
       "hideCommandResult": false,
       "iPythonMetadata": null,
       "inputWidgets": {},
       "isLockedInExamMode": false,
       "latestUser": "a user",
       "latestUserId": null,
       "listResultMetadata": null,
       "metadata": {
        "byteLimit": 2048000,
        "implicitDf": true,
        "rowLimit": 10000
       },
       "nuid": "b412e17e-1a89-43e8-9ed1-329d422ae15d",
       "origId": 2304244234996424,
       "parentHierarchy": [
        "0497ce47-b217-4afe-bcab-d8f3213bf3c9"
       ],
       "pivotAggregation": null,
       "pivotColumns": null,
       "position": 7,
       "resultDbfsErrorMessage": null,
       "resultDbfsStatus": "INLINED_IN_TREE",
       "results": null,
       "showCommandTitle": false,
       "startTime": 0,
       "state": "finished",
       "streamStates": {},
       "subcommandOptions": {
        "queryPlan": {
         "groups": [
          {
           "column": "hour",
           "type": "column"
          }
         ],
         "selects": [
          {
           "column": "hour",
           "type": "column"
          },
          {
           "alias": "column_7c8e527417",
           "args": [
            {
             "column": "total_orders",
             "type": "column"
            }
           ],
           "function": "SUM",
           "type": "function"
          }
         ]
        }
       },
       "submitTime": 0,
       "subtype": "tableResultSubCmd.visualization",
       "tableResultIndex": 0,
       "useConsistentColors": false,
       "version": "CommandV1",
       "width": "auto",
       "workflows": [],
       "xColumns": null,
       "yColumns": null
      }
     },
     "output_type": "display_data"
    }
   ],
   "source": [
    "%sql\n",
    "select\n",
    "  count(order_id) as total_orders,\n",
    "  order_hour_of_day as hour\n",
    "from orders\n",
    "group by order_hour_of_day\n",
    "order by order_hour_of_day"
   ]
  },
  {
   "cell_type": "code",
   "execution_count": 3,
   "metadata": {},
   "outputs": [
    {
     "data": {
      "image/png": "[encoded data removed]",
      "text/plain": [
       "<IPython.core.display.Image object>"
      ]
     },
     "metadata": {},
     "output_type": "display_data"
    }
   ],
   "source": [
    "display(Image(\"./figures/orders_by_hour.png\"))"
   ]
  },
  {
   "attachments": {},
   "cell_type": "markdown",
   "metadata": {},
   "source": [
    "### Understanding what's on the shelves\n",
    "\n",
    "As we dig deeper into our market basket analysis, we can gain some insight on the number of products by department to understand how much shelf space is being used."
   ]
  },
  {
   "cell_type": "code",
   "execution_count": null,
   "metadata": {
    "application/vnd.databricks.v1+cell": {
     "cellMetadata": {
      "byteLimit": 2048000,
      "implicitDf": true,
      "rowLimit": 10000
     },
     "inputWidgets": {},
     "nuid": "c20c556c-d279-450f-ab47-782fce128deb",
     "showTitle": false,
     "title": ""
    }
   },
   "outputs": [
    {
     "data": {
      "text/html": [
       "<style scoped>\n",
       "  .table-result-container {\n",
       "    max-height: 300px;\n",
       "    overflow: auto;\n",
       "  }\n",
       "  table, th, td {\n",
       "    border: 1px solid black;\n",
       "    border-collapse: collapse;\n",
       "  }\n",
       "  th, td {\n",
       "    padding: 5px;\n",
       "  }\n",
       "  th {\n",
       "    text-align: left;\n",
       "  }\n",
       "</style><div class='table-result-container'><table class='table-result'><thead style='background-color: white'><tr><th>department</th><th>products</th></tr></thead><tbody><tr><td>personal care</td><td>6563</td></tr><tr><td>snacks</td><td>6264</td></tr><tr><td>pantry</td><td>5371</td></tr><tr><td>beverages</td><td>4365</td></tr><tr><td>frozen</td><td>4007</td></tr><tr><td>dairy eggs</td><td>3449</td></tr><tr><td>household</td><td>3085</td></tr><tr><td>canned goods</td><td>2092</td></tr><tr><td>dry goods pasta</td><td>1858</td></tr><tr><td>produce</td><td>1684</td></tr></tbody></table></div>"
      ]
     },
     "metadata": {
      "application/vnd.databricks.v1+output": {
       "addedWidgets": {},
       "aggData": [],
       "aggError": "",
       "aggOverflow": false,
       "aggSchema": [],
       "aggSeriesLimitReached": false,
       "aggType": "",
       "arguments": {},
       "columnCustomDisplayInfos": {},
       "data": [
        [
         "personal care",
         6563
        ],
        [
         "snacks",
         6264
        ],
        [
         "pantry",
         5371
        ],
        [
         "beverages",
         4365
        ],
        [
         "frozen",
         4007
        ],
        [
         "dairy eggs",
         3449
        ],
        [
         "household",
         3085
        ],
        [
         "canned goods",
         2092
        ],
        [
         "dry goods pasta",
         1858
        ],
        [
         "produce",
         1684
        ]
       ],
       "datasetInfos": [],
       "dbfsResultPath": null,
       "isJsonSchema": true,
       "metadata": {},
       "overflow": false,
       "plotOptions": {
        "customPlotOptions": {},
        "displayType": "table",
        "pivotAggregation": null,
        "pivotColumns": null,
        "xColumns": null,
        "yColumns": null
       },
       "removedWidgets": [],
       "schema": [
        {
         "metadata": "{}",
         "name": "department",
         "type": "\"string\""
        },
        {
         "metadata": "{}",
         "name": "products",
         "type": "\"long\""
        }
       ],
       "type": "table"
      }
     },
     "output_type": "display_data"
    },
    {
     "data": {
      "text/plain": [
       "Databricks visualization. Run in Databricks to view."
      ]
     },
     "metadata": {
      "application/vnd.databricks.v1.subcommand+json": {
       "bindings": {},
       "collapsed": false,
       "command": "%sql WITH q AS (select d.department, count(distinct p.product_id) as products\n  from products p\n    inner join departments d\n      on d.department_id = p.department_id\n group by d.department\n order by products desc\n limit 10) SELECT `department`,SUM(`products`) `column_7c8e527425` FROM q GROUP BY `department`",
       "commandTitle": "Visualization 1",
       "commandType": "auto",
       "commandVersion": 0,
       "commentThread": [],
       "commentsVisible": false,
       "contentSha256Hex": null,
       "customPlotOptions": {
        "redashChart": [
         {
          "key": "type",
          "value": "CHART"
         },
         {
          "key": "options",
          "value": {
           "alignYAxesAtZero": true,
           "coefficient": 1,
           "columnConfigurationMap": {
            "x": {
             "column": "department",
             "id": "column_7c8e527424"
            },
            "y": [
             {
              "column": "products",
              "id": "column_7c8e527425",
              "transform": "SUM"
             }
            ]
           },
           "dateTimeFormat": "DD/MM/YYYY HH:mm",
           "direction": {
            "type": "clockwise"
           },
           "error_y": {
            "type": "data",
            "visible": true
           },
           "globalSeriesType": "pie",
           "isAggregationOn": true,
           "legend": {
            "traceorder": "normal"
           },
           "missingValuesAsZero": false,
           "numberFormat": "0,0[.]00000",
           "percentFormat": "0[.]00%",
           "series": {
            "error_y": {
             "type": "data",
             "visible": true
            },
            "stacking": null
           },
           "seriesOptions": {
            "column_7c8e527425": {
             "name": "products",
             "type": "pie",
             "yAxis": 0
            }
           },
           "showDataLabels": true,
           "sizemode": "diameter",
           "sortX": true,
           "sortY": true,
           "swappedAxes": false,
           "textFormat": "",
           "useAggregationsUi": true,
           "valuesOptions": {},
           "version": 2,
           "xAxis": {
            "labels": {
             "enabled": true
            },
            "type": "-"
           },
           "yAxis": [
            {
             "type": "-"
            },
            {
             "opposite": true,
             "type": "-"
            }
           ]
          }
         }
        ]
       },
       "datasetPreviewNameToCmdIdMap": {},
       "diffDeletes": [],
       "diffInserts": [],
       "displayType": "redashChart",
       "error": null,
       "errorSummary": null,
       "errorTraceType": null,
       "finishTime": 0,
       "globalVars": {},
       "guid": "99df5020-680f-48fb-9017-85e72f82b4ad",
       "height": "auto",
       "hideCommandCode": false,
       "hideCommandResult": false,
       "iPythonMetadata": null,
       "inputWidgets": {},
       "isLockedInExamMode": false,
       "latestUser": "a user",
       "latestUserId": null,
       "listResultMetadata": null,
       "metadata": {
        "byteLimit": 2048000,
        "implicitDf": true,
        "rowLimit": 10000
       },
       "nuid": "9fb91588-7e5c-4196-8202-69a90f7647c9",
       "origId": 2304244234996426,
       "parentHierarchy": [
        "4d5d1552-36c6-4d38-a675-70fc9e0ec2e0"
       ],
       "pivotAggregation": null,
       "pivotColumns": null,
       "position": 8,
       "resultDbfsErrorMessage": null,
       "resultDbfsStatus": "INLINED_IN_TREE",
       "results": null,
       "showCommandTitle": false,
       "startTime": 0,
       "state": "finished",
       "streamStates": {},
       "subcommandOptions": {
        "queryPlan": {
         "groups": [
          {
           "column": "department",
           "type": "column"
          }
         ],
         "selects": [
          {
           "column": "department",
           "type": "column"
          },
          {
           "alias": "column_7c8e527425",
           "args": [
            {
             "column": "products",
             "type": "column"
            }
           ],
           "function": "SUM",
           "type": "function"
          }
         ]
        }
       },
       "submitTime": 0,
       "subtype": "tableResultSubCmd.visualization",
       "tableResultIndex": 0,
       "useConsistentColors": false,
       "version": "CommandV1",
       "width": "auto",
       "workflows": [],
       "xColumns": null,
       "yColumns": null
      }
     },
     "output_type": "display_data"
    }
   ],
   "source": [
    "%sql\n",
    "select d.department, count(distinct p.product_id) as products\n",
    "  from products p\n",
    "    inner join departments d\n",
    "      on d.department_id = p.department_id\n",
    " group by d.department\n",
    " order by products desc\n",
    " limit 10"
   ]
  },
  {
   "cell_type": "code",
   "execution_count": 4,
   "metadata": {},
   "outputs": [
    {
     "data": {
      "image/png": "[encoded data removed]",
      "text/plain": [
       "<IPython.core.display.Image object>"
      ]
     },
     "metadata": {},
     "output_type": "display_data"
    }
   ],
   "source": [
    "display(Image(\"./figures/products_by_dept.png\"))"
   ]
  },
  {
   "attachments": {},
   "cell_type": "markdown",
   "metadata": {},
   "source": [
    "It seems like the bulk of unique items (products) involve personal care and snacks.\n",
    "\n",
    "### Organizing Shopping Baskets\n",
    "\n",
    "To prepare our data for downstream processing, we'll need to organize our data by shopping basket. In other words, each row in our dataframe represents and `order_id` with each `items` column containing an array of items purchased.\n",
    "\n",
    "PySpark SQL has some useful functions that will allow us to process our data really quickly after we create our custom `baskets` dataframe from the `products` and `order_products_train` datasets. `collect_set` is just an aggregate function that collects unique values of a column into a set, so here it's collecting all unique product names for each order and puts it into a set. The `alias` function just renames the resulting column to what's specified.\n",
    "\n",
    "We us `createOrReplaceTempView` on the `baskets` dataset so that we can query it like a SQL table."
   ]
  },
  {
   "cell_type": "code",
   "execution_count": null,
   "metadata": {
    "application/vnd.databricks.v1+cell": {
     "cellMetadata": {
      "byteLimit": 2048000,
      "rowLimit": 10000
     },
     "inputWidgets": {},
     "nuid": "81c2f48f-5b20-4340-807f-d8865acac3ae",
     "showTitle": false,
     "title": ""
    }
   },
   "outputs": [],
   "source": [
    "from pyspark.sql.functions import collect_set, col, count\n",
    "\n",
    "rawData = spark.sql(\"select p.product_name, o.order_id from products p inner join order_products_train o where o.product_id = p.product_id\")\n",
    "baskets = rawData.groupBy('order_id').agg(collect_set('product_name').alias('items'))\n",
    "baskets.createOrReplaceTempView('baskets')"
   ]
  },
  {
   "attachments": {},
   "cell_type": "markdown",
   "metadata": {},
   "source": [
    "### Training the ML Model\n",
    "\n",
    "To understand the frequency that items are associated with each other, we'll use association rule mining for market basket analysis. The Spark MLlib library implements two algorithms that are related to frequency pattern mining - `FP-growth` and `PrefixSpan`. The difference between the two is that `FP-growth` doesn't use ordered information in the itemsets, and `PrefixSpan` is designed for sequential pattern mining where the itemsets are ordered. We'll use `FP-growth` for this project as the order of our information doesn't really matter to us.\n",
    "\n",
    "We'll be using Scala for this part of the project since it will calculate our itemsets in much faster time than with pure Python."
   ]
  },
  {
   "cell_type": "code",
   "execution_count": null,
   "metadata": {
    "application/vnd.databricks.v1+cell": {
     "cellMetadata": {
      "byteLimit": 2048000,
      "rowLimit": 10000
     },
     "inputWidgets": {},
     "nuid": "1400d47e-ff6d-4c44-8412-7f9e92aaabf8",
     "showTitle": false,
     "title": ""
    }
   },
   "outputs": [
    {
     "data": {
      "text/html": [
       "<style scoped>\n",
       "  .ansiout {\n",
       "    display: block;\n",
       "    unicode-bidi: embed;\n",
       "    white-space: pre-wrap;\n",
       "    word-wrap: break-word;\n",
       "    word-break: break-all;\n",
       "    font-family: \"Source Code Pro\", \"Menlo\", monospace;;\n",
       "    font-size: 13px;\n",
       "    color: #555;\n",
       "    margin-left: 4px;\n",
       "    line-height: 19px;\n",
       "  }\n",
       "</style>\n",
       "<div class=\"ansiout\">import org.apache.spark.ml.fpm.FPGrowth\n",
       "baskets_ds: org.apache.spark.sql.DataFrame = [items: array&lt;string&gt;]\n",
       "fpgrowth: org.apache.spark.ml.fpm.FPGrowth = fpgrowth_d539a42d1a9d\n",
       "model: org.apache.spark.ml.fpm.FPGrowthModel = FPGrowthModel: uid=fpgrowth_d539a42d1a9d, numTrainingRecords=131209\n",
       "mostPopularItemInABasket: org.apache.spark.sql.DataFrame = [items: array&lt;string&gt;, freq: bigint]\n",
       "</div>"
      ]
     },
     "metadata": {
      "application/vnd.databricks.v1+output": {
       "addedWidgets": {},
       "arguments": {},
       "data": "<div class=\"ansiout\">import org.apache.spark.ml.fpm.FPGrowth\nbaskets_ds: org.apache.spark.sql.DataFrame = [items: array&lt;string&gt;]\nfpgrowth: org.apache.spark.ml.fpm.FPGrowth = fpgrowth_d539a42d1a9d\nmodel: org.apache.spark.ml.fpm.FPGrowthModel = FPGrowthModel: uid=fpgrowth_d539a42d1a9d, numTrainingRecords=131209\nmostPopularItemInABasket: org.apache.spark.sql.DataFrame = [items: array&lt;string&gt;, freq: bigint]\n</div>",
       "datasetInfos": [
        {
         "name": "baskets_ds",
         "schema": {
          "fields": [
           {
            "metadata": {},
            "name": "items",
            "nullable": false,
            "type": {
             "containsNull": false,
             "elementType": "string",
             "type": "array"
            }
           }
          ],
          "type": "struct"
         },
         "tableIdentifier": null,
         "typeStr": "org.apache.spark.sql.DataFrame"
        },
        {
         "name": "mostPopularItemInABasket",
         "schema": {
          "fields": [
           {
            "metadata": {},
            "name": "items",
            "nullable": false,
            "type": {
             "containsNull": false,
             "elementType": "string",
             "type": "array"
            }
           },
           {
            "metadata": {},
            "name": "freq",
            "nullable": false,
            "type": "long"
           }
          ],
          "type": "struct"
         },
         "tableIdentifier": null,
         "typeStr": "org.apache.spark.sql.DataFrame"
        }
       ],
       "metadata": {
        "isDbfsCommandResult": false
       },
       "removedWidgets": [],
       "type": "html"
      }
     },
     "output_type": "display_data"
    }
   ],
   "source": [
    "%scala\n",
    "import org.apache.spark.ml.fpm.FPGrowth\n",
    "\n",
    "// Extract out the items\n",
    "val baskets_ds = spark.sql(\"select items from baskets\").as[Array[String]].toDF(\"items\")\n",
    "\n",
    "// Use FPGrowth\n",
    "val fpgrowth = new FPGrowth().setItemsCol(\"items\").setMinSupport(0.001).setMinConfidence(0)\n",
    "val model = fpgrowth.fit(baskets_ds)\n",
    "\n",
    "// Calculate frequent itemsets\n",
    "val mostPopularItemInABasket = model.freqItemsets\n",
    "mostPopularItemInABasket.createOrReplaceTempView(\"mostPopularItemInABasket\")"
   ]
  },
  {
   "attachments": {},
   "cell_type": "markdown",
   "metadata": {},
   "source": [
    "With our `mostPopularItemInABasket` dataframe created, we can use Spark SQL to query for the most popular items in a basket where there are more than 2 items."
   ]
  },
  {
   "cell_type": "code",
   "execution_count": null,
   "metadata": {
    "application/vnd.databricks.v1+cell": {
     "cellMetadata": {
      "byteLimit": 2048000,
      "implicitDf": true,
      "rowLimit": 10000
     },
     "inputWidgets": {},
     "nuid": "0386a055-c421-4e63-9ab6-e22125045c3b",
     "showTitle": false,
     "title": ""
    }
   },
   "outputs": [
    {
     "data": {
      "text/html": [
       "<style scoped>\n",
       "  .table-result-container {\n",
       "    max-height: 300px;\n",
       "    overflow: auto;\n",
       "  }\n",
       "  table, th, td {\n",
       "    border: 1px solid black;\n",
       "    border-collapse: collapse;\n",
       "  }\n",
       "  th, td {\n",
       "    padding: 5px;\n",
       "  }\n",
       "  th {\n",
       "    text-align: left;\n",
       "  }\n",
       "</style><div class='table-result-container'><table class='table-result'><thead style='background-color: white'><tr><th>items</th><th>freq</th></tr></thead><tbody><tr><td>List(Organic Hass Avocado, Organic Strawberries, Bag of Organic Bananas)</td><td>710</td></tr><tr><td>List(Organic Raspberries, Organic Strawberries, Bag of Organic Bananas)</td><td>649</td></tr><tr><td>List(Organic Baby Spinach, Organic Strawberries, Bag of Organic Bananas)</td><td>587</td></tr><tr><td>List(Organic Raspberries, Organic Hass Avocado, Bag of Organic Bananas)</td><td>531</td></tr><tr><td>List(Organic Hass Avocado, Organic Baby Spinach, Bag of Organic Bananas)</td><td>497</td></tr><tr><td>List(Organic Avocado, Organic Baby Spinach, Banana)</td><td>484</td></tr><tr><td>List(Organic Avocado, Large Lemon, Banana)</td><td>477</td></tr><tr><td>List(Limes, Large Lemon, Banana)</td><td>452</td></tr><tr><td>List(Organic Cucumber, Organic Strawberries, Bag of Organic Bananas)</td><td>424</td></tr><tr><td>List(Limes, Organic Avocado, Large Lemon)</td><td>389</td></tr><tr><td>List(Organic Raspberries, Organic Hass Avocado, Organic Strawberries)</td><td>381</td></tr><tr><td>List(Organic Avocado, Organic Strawberries, Banana)</td><td>379</td></tr><tr><td>List(Organic Baby Spinach, Organic Strawberries, Banana)</td><td>376</td></tr><tr><td>List(Organic Blueberries, Organic Strawberries, Bag of Organic Bananas)</td><td>374</td></tr><tr><td>List(Large Lemon, Organic Baby Spinach, Banana)</td><td>371</td></tr><tr><td>List(Organic Cucumber, Organic Hass Avocado, Bag of Organic Bananas)</td><td>366</td></tr><tr><td>List(Organic Lemon, Organic Hass Avocado, Bag of Organic Bananas)</td><td>353</td></tr><tr><td>List(Limes, Organic Avocado, Banana)</td><td>352</td></tr><tr><td>List(Organic Whole Milk, Organic Strawberries, Bag of Organic Bananas)</td><td>339</td></tr><tr><td>List(Organic Avocado, Large Lemon, Organic Baby Spinach)</td><td>334</td></tr></tbody></table></div>"
      ]
     },
     "metadata": {
      "application/vnd.databricks.v1+output": {
       "addedWidgets": {},
       "aggData": [],
       "aggError": "",
       "aggOverflow": false,
       "aggSchema": [],
       "aggSeriesLimitReached": false,
       "aggType": "",
       "arguments": {},
       "columnCustomDisplayInfos": {},
       "data": [
        [
         [
          "Organic Hass Avocado",
          "Organic Strawberries",
          "Bag of Organic Bananas"
         ],
         710
        ],
        [
         [
          "Organic Raspberries",
          "Organic Strawberries",
          "Bag of Organic Bananas"
         ],
         649
        ],
        [
         [
          "Organic Baby Spinach",
          "Organic Strawberries",
          "Bag of Organic Bananas"
         ],
         587
        ],
        [
         [
          "Organic Raspberries",
          "Organic Hass Avocado",
          "Bag of Organic Bananas"
         ],
         531
        ],
        [
         [
          "Organic Hass Avocado",
          "Organic Baby Spinach",
          "Bag of Organic Bananas"
         ],
         497
        ],
        [
         [
          "Organic Avocado",
          "Organic Baby Spinach",
          "Banana"
         ],
         484
        ],
        [
         [
          "Organic Avocado",
          "Large Lemon",
          "Banana"
         ],
         477
        ],
        [
         [
          "Limes",
          "Large Lemon",
          "Banana"
         ],
         452
        ],
        [
         [
          "Organic Cucumber",
          "Organic Strawberries",
          "Bag of Organic Bananas"
         ],
         424
        ],
        [
         [
          "Limes",
          "Organic Avocado",
          "Large Lemon"
         ],
         389
        ],
        [
         [
          "Organic Raspberries",
          "Organic Hass Avocado",
          "Organic Strawberries"
         ],
         381
        ],
        [
         [
          "Organic Avocado",
          "Organic Strawberries",
          "Banana"
         ],
         379
        ],
        [
         [
          "Organic Baby Spinach",
          "Organic Strawberries",
          "Banana"
         ],
         376
        ],
        [
         [
          "Organic Blueberries",
          "Organic Strawberries",
          "Bag of Organic Bananas"
         ],
         374
        ],
        [
         [
          "Large Lemon",
          "Organic Baby Spinach",
          "Banana"
         ],
         371
        ],
        [
         [
          "Organic Cucumber",
          "Organic Hass Avocado",
          "Bag of Organic Bananas"
         ],
         366
        ],
        [
         [
          "Organic Lemon",
          "Organic Hass Avocado",
          "Bag of Organic Bananas"
         ],
         353
        ],
        [
         [
          "Limes",
          "Organic Avocado",
          "Banana"
         ],
         352
        ],
        [
         [
          "Organic Whole Milk",
          "Organic Strawberries",
          "Bag of Organic Bananas"
         ],
         339
        ],
        [
         [
          "Organic Avocado",
          "Large Lemon",
          "Organic Baby Spinach"
         ],
         334
        ]
       ],
       "datasetInfos": [],
       "dbfsResultPath": null,
       "isJsonSchema": true,
       "metadata": {},
       "overflow": false,
       "plotOptions": {
        "customPlotOptions": {},
        "displayType": "table",
        "pivotAggregation": null,
        "pivotColumns": null,
        "xColumns": null,
        "yColumns": null
       },
       "removedWidgets": [],
       "schema": [
        {
         "metadata": "{}",
         "name": "items",
         "type": "{\"type\":\"array\",\"elementType\":\"string\",\"containsNull\":false}"
        },
        {
         "metadata": "{}",
         "name": "freq",
         "type": "\"long\""
        }
       ],
       "type": "table"
      }
     },
     "output_type": "display_data"
    }
   ],
   "source": [
    "%sql\n",
    "select items, freq from mostPopularItemInABasket where size(items) > 2 order by freq desc limit 20"
   ]
  },
  {
   "attachments": {},
   "cell_type": "markdown",
   "metadata": {},
   "source": [
    "From the table above we can see the most frequent purchases of more than two items involve some sort of combination of organic avocados, organic strawberries, and organic bananas. Looking at even just the top 5 results, the most frequently purchased items are a combo of organic avocados, organic strawberries, organic raspberries, organic bananas, and organic baby spinach. From the perspective of recommendations, if a shopper has purchased these items previously, it makes sense to recommend that they purchase them again.\n",
    "\n",
    "### Association Rules\n",
    "\n",
    "The model that we created with `FP-growth` also generates `associationRules`, meaning if a shopper purchases cereal, what is the probability that they will also purchase milk."
   ]
  },
  {
   "cell_type": "code",
   "execution_count": null,
   "metadata": {
    "application/vnd.databricks.v1+cell": {
     "cellMetadata": {
      "byteLimit": 2048000,
      "rowLimit": 10000
     },
     "inputWidgets": {},
     "nuid": "b9f606c9-7d53-4a47-8775-c79950ca1301",
     "showTitle": false,
     "title": ""
    }
   },
   "outputs": [
    {
     "data": {
      "text/html": [
       "<style scoped>\n",
       "  .ansiout {\n",
       "    display: block;\n",
       "    unicode-bidi: embed;\n",
       "    white-space: pre-wrap;\n",
       "    word-wrap: break-word;\n",
       "    word-break: break-all;\n",
       "    font-family: \"Source Code Pro\", \"Menlo\", monospace;;\n",
       "    font-size: 13px;\n",
       "    color: #555;\n",
       "    margin-left: 4px;\n",
       "    line-height: 19px;\n",
       "  }\n",
       "</style>\n",
       "<div class=\"ansiout\">ifThen: org.apache.spark.sql.DataFrame = [antecedent: array&lt;string&gt;, consequent: array&lt;string&gt; ... 3 more fields]\n",
       "</div>"
      ]
     },
     "metadata": {
      "application/vnd.databricks.v1+output": {
       "addedWidgets": {},
       "arguments": {},
       "data": "<div class=\"ansiout\">ifThen: org.apache.spark.sql.DataFrame = [antecedent: array&lt;string&gt;, consequent: array&lt;string&gt; ... 3 more fields]\n</div>",
       "datasetInfos": [
        {
         "name": "ifThen",
         "schema": {
          "fields": [
           {
            "metadata": {},
            "name": "antecedent",
            "nullable": false,
            "type": {
             "containsNull": false,
             "elementType": "string",
             "type": "array"
            }
           },
           {
            "metadata": {},
            "name": "consequent",
            "nullable": false,
            "type": {
             "containsNull": false,
             "elementType": "string",
             "type": "array"
            }
           },
           {
            "metadata": {},
            "name": "confidence",
            "nullable": false,
            "type": "double"
           },
           {
            "metadata": {},
            "name": "lift",
            "nullable": true,
            "type": "double"
           },
           {
            "metadata": {},
            "name": "support",
            "nullable": false,
            "type": "double"
           }
          ],
          "type": "struct"
         },
         "tableIdentifier": null,
         "typeStr": "org.apache.spark.sql.DataFrame"
        }
       ],
       "metadata": {
        "isDbfsCommandResult": false
       },
       "removedWidgets": [],
       "type": "html"
      }
     },
     "output_type": "display_data"
    }
   ],
   "source": [
    "%scala\n",
    "\n",
    "// Display generated association rules\n",
    "val ifThen = model.associationRules\n",
    "ifThen.createOrReplaceTempView(\"ifThen\")"
   ]
  },
  {
   "attachments": {},
   "cell_type": "markdown",
   "metadata": {},
   "source": [
    "Essentially the model determines if you purchased something (called the antecedent), then you will purchase this other thing (the sonsequent) with the following confidence.\n",
    "\n",
    "Let's take a look at the associations that we have in this dataset. Our assocation rules model is called `ifThen` (i.e. if this - then that)"
   ]
  },
  {
   "cell_type": "code",
   "execution_count": null,
   "metadata": {
    "application/vnd.databricks.v1+cell": {
     "cellMetadata": {
      "byteLimit": 2048000,
      "implicitDf": true,
      "rowLimit": 10000
     },
     "inputWidgets": {},
     "nuid": "6fe86ccb-3e37-4ba8-afa6-86e39cad4541",
     "showTitle": false,
     "title": ""
    }
   },
   "outputs": [
    {
     "data": {
      "text/html": [
       "<style scoped>\n",
       "  .table-result-container {\n",
       "    max-height: 300px;\n",
       "    overflow: auto;\n",
       "  }\n",
       "  table, th, td {\n",
       "    border: 1px solid black;\n",
       "    border-collapse: collapse;\n",
       "  }\n",
       "  th, td {\n",
       "    padding: 5px;\n",
       "  }\n",
       "  th {\n",
       "    text-align: left;\n",
       "  }\n",
       "</style><div class='table-result-container'><table class='table-result'><thead style='background-color: white'><tr><th>antecedent (if)</th><th>consequent (then)</th><th>confidence</th></tr></thead><tbody><tr><td>List(Organic Raspberries, Organic Hass Avocado, Organic Strawberries)</td><td>List(Bag of Organic Bananas)</td><td>0.5984251968503937</td></tr><tr><td>List(Organic Cucumber, Organic Hass Avocado, Organic Strawberries)</td><td>List(Bag of Organic Bananas)</td><td>0.546875</td></tr><tr><td>List(Organic Kiwi, Organic Hass Avocado)</td><td>List(Bag of Organic Bananas)</td><td>0.5459770114942529</td></tr><tr><td>List(Organic Navel Orange, Organic Raspberries)</td><td>List(Bag of Organic Bananas)</td><td>0.5412186379928315</td></tr><tr><td>List(Yellow Onions, Strawberries)</td><td>List(Banana)</td><td>0.5357142857142857</td></tr><tr><td>List(Organic Whole String Cheese, Organic Hass Avocado)</td><td>List(Bag of Organic Bananas)</td><td>0.5314685314685315</td></tr><tr><td>List(Organic Navel Orange, Organic Hass Avocado)</td><td>List(Bag of Organic Bananas)</td><td>0.5283018867924528</td></tr><tr><td>List(Organic Raspberries, Organic Hass Avocado)</td><td>List(Bag of Organic Bananas)</td><td>0.521099116781158</td></tr><tr><td>List(Organic D'Anjou Pears, Organic Hass Avocado)</td><td>List(Bag of Organic Bananas)</td><td>0.5170454545454546</td></tr><tr><td>List(Organic Unsweetened Almond Milk, Organic Hass Avocado)</td><td>List(Bag of Organic Bananas)</td><td>0.5141065830721003</td></tr><tr><td>List(Organic Broccoli, Organic Hass Avocado)</td><td>List(Bag of Organic Bananas)</td><td>0.5048231511254019</td></tr><tr><td>List(Organic Lemon, Organic Raspberries)</td><td>List(Bag of Organic Bananas)</td><td>0.4989106753812636</td></tr><tr><td>List(Organic Hass Avocado, Organic Baby Spinach, Organic Strawberries)</td><td>List(Bag of Organic Bananas)</td><td>0.49393939393939396</td></tr><tr><td>List(Organic Fuji Apple, Strawberries)</td><td>List(Banana)</td><td>0.4915254237288136</td></tr><tr><td>List(Honeycrisp Apple, Strawberries)</td><td>List(Banana)</td><td>0.4868421052631579</td></tr><tr><td>List(Organic Large Extra Fancy Fuji Apple, Organic Hass Avocado)</td><td>List(Bag of Organic Bananas)</td><td>0.4838709677419355</td></tr><tr><td>List(Organic Gala Apples, Organic Hass Avocado)</td><td>List(Bag of Organic Bananas)</td><td>0.4837905236907731</td></tr><tr><td>List(Organic Navel Orange, Organic Strawberries)</td><td>List(Bag of Organic Bananas)</td><td>0.4821002386634845</td></tr><tr><td>List(Organic Kiwi, Organic Raspberries)</td><td>List(Bag of Organic Bananas)</td><td>0.4792332268370607</td></tr><tr><td>List(Organic Carrot Bunch, Organic Hass Avocado)</td><td>List(Bag of Organic Bananas)</td><td>0.47315436241610737</td></tr></tbody></table></div>"
      ]
     },
     "metadata": {
      "application/vnd.databricks.v1+output": {
       "addedWidgets": {},
       "aggData": [],
       "aggError": "",
       "aggOverflow": false,
       "aggSchema": [],
       "aggSeriesLimitReached": false,
       "aggType": "",
       "arguments": {},
       "columnCustomDisplayInfos": {},
       "data": [
        [
         [
          "Organic Raspberries",
          "Organic Hass Avocado",
          "Organic Strawberries"
         ],
         [
          "Bag of Organic Bananas"
         ],
         0.5984251968503937
        ],
        [
         [
          "Organic Cucumber",
          "Organic Hass Avocado",
          "Organic Strawberries"
         ],
         [
          "Bag of Organic Bananas"
         ],
         0.546875
        ],
        [
         [
          "Organic Kiwi",
          "Organic Hass Avocado"
         ],
         [
          "Bag of Organic Bananas"
         ],
         0.5459770114942529
        ],
        [
         [
          "Organic Navel Orange",
          "Organic Raspberries"
         ],
         [
          "Bag of Organic Bananas"
         ],
         0.5412186379928315
        ],
        [
         [
          "Yellow Onions",
          "Strawberries"
         ],
         [
          "Banana"
         ],
         0.5357142857142857
        ],
        [
         [
          "Organic Whole String Cheese",
          "Organic Hass Avocado"
         ],
         [
          "Bag of Organic Bananas"
         ],
         0.5314685314685315
        ],
        [
         [
          "Organic Navel Orange",
          "Organic Hass Avocado"
         ],
         [
          "Bag of Organic Bananas"
         ],
         0.5283018867924528
        ],
        [
         [
          "Organic Raspberries",
          "Organic Hass Avocado"
         ],
         [
          "Bag of Organic Bananas"
         ],
         0.521099116781158
        ],
        [
         [
          "Organic D'Anjou Pears",
          "Organic Hass Avocado"
         ],
         [
          "Bag of Organic Bananas"
         ],
         0.5170454545454546
        ],
        [
         [
          "Organic Unsweetened Almond Milk",
          "Organic Hass Avocado"
         ],
         [
          "Bag of Organic Bananas"
         ],
         0.5141065830721003
        ],
        [
         [
          "Organic Broccoli",
          "Organic Hass Avocado"
         ],
         [
          "Bag of Organic Bananas"
         ],
         0.5048231511254019
        ],
        [
         [
          "Organic Lemon",
          "Organic Raspberries"
         ],
         [
          "Bag of Organic Bananas"
         ],
         0.4989106753812636
        ],
        [
         [
          "Organic Hass Avocado",
          "Organic Baby Spinach",
          "Organic Strawberries"
         ],
         [
          "Bag of Organic Bananas"
         ],
         0.49393939393939396
        ],
        [
         [
          "Organic Fuji Apple",
          "Strawberries"
         ],
         [
          "Banana"
         ],
         0.4915254237288136
        ],
        [
         [
          "Honeycrisp Apple",
          "Strawberries"
         ],
         [
          "Banana"
         ],
         0.4868421052631579
        ],
        [
         [
          "Organic Large Extra Fancy Fuji Apple",
          "Organic Hass Avocado"
         ],
         [
          "Bag of Organic Bananas"
         ],
         0.4838709677419355
        ],
        [
         [
          "Organic Gala Apples",
          "Organic Hass Avocado"
         ],
         [
          "Bag of Organic Bananas"
         ],
         0.4837905236907731
        ],
        [
         [
          "Organic Navel Orange",
          "Organic Strawberries"
         ],
         [
          "Bag of Organic Bananas"
         ],
         0.4821002386634845
        ],
        [
         [
          "Organic Kiwi",
          "Organic Raspberries"
         ],
         [
          "Bag of Organic Bananas"
         ],
         0.4792332268370607
        ],
        [
         [
          "Organic Carrot Bunch",
          "Organic Hass Avocado"
         ],
         [
          "Bag of Organic Bananas"
         ],
         0.47315436241610737
        ]
       ],
       "datasetInfos": [],
       "dbfsResultPath": null,
       "isJsonSchema": true,
       "metadata": {},
       "overflow": false,
       "plotOptions": {
        "customPlotOptions": {},
        "displayType": "table",
        "pivotAggregation": null,
        "pivotColumns": null,
        "xColumns": null,
        "yColumns": null
       },
       "removedWidgets": [],
       "schema": [
        {
         "metadata": "{}",
         "name": "antecedent (if)",
         "type": "{\"type\":\"array\",\"elementType\":\"string\",\"containsNull\":false}"
        },
        {
         "metadata": "{}",
         "name": "consequent (then)",
         "type": "{\"type\":\"array\",\"elementType\":\"string\",\"containsNull\":false}"
        },
        {
         "metadata": "{}",
         "name": "confidence",
         "type": "\"double\""
        }
       ],
       "type": "table"
      }
     },
     "output_type": "display_data"
    }
   ],
   "source": [
    "%sql\n",
    "select antecedent as `antecedent (if)`, consequent as `consequent (then)`, confidence from ifThen order by confidence desc limit 20"
   ]
  },
  {
   "attachments": {},
   "cell_type": "markdown",
   "metadata": {},
   "source": [
    "We can see pretty clearly that there is a strong confidence that if a shopper has organic raspberries, organic avocados, or organic strawberries in their basket, then it makes sense to recommend organic bananas as well. If you look a the entire list that was produced above, organic bananas are a strong bet for a purchase recommendation."
   ]
  },
  {
   "cell_type": "code",
   "execution_count": null,
   "metadata": {
    "application/vnd.databricks.v1+cell": {
     "cellMetadata": {},
     "inputWidgets": {},
     "nuid": "c1b377b6-07ea-40fb-9624-9cef3eb1be38",
     "showTitle": false,
     "title": ""
    }
   },
   "outputs": [],
   "source": []
  }
 ],
 "metadata": {
  "application/vnd.databricks.v1+notebook": {
   "dashboards": [],
   "language": "python",
   "notebookMetadata": {
    "mostRecentlyExecutedCommandWithImplicitDF": {
     "commandId": 2307055190858350,
     "dataframes": [
      "_sqldf"
     ]
    },
    "pythonIndentUnit": 4
   },
   "notebookName": "Instacart Market Basket Analysis",
   "widgets": {}
  },
  "kernelspec": {
   "display_name": "base",
   "language": "python",
   "name": "python3"
  },
  "language_info": {
   "codemirror_mode": {
    "name": "ipython",
    "version": 3
   },
   "file_extension": ".py",
   "mimetype": "text/x-python",
   "name": "python",
   "nbconvert_exporter": "python",
   "pygments_lexer": "ipython3",
   "version": "3.9.13"
  }
 },
 "nbformat": 4,
 "nbformat_minor": 0
}
